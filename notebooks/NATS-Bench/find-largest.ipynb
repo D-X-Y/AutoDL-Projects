{
 "cells": [
  {
   "cell_type": "code",
   "execution_count": 1,
   "metadata": {},
   "outputs": [
    {
     "name": "stdout",
     "output_type": "stream",
     "text": [
      "[2021-03-27 06:46:38] Try to use the default NATS-Bench (topology) path from fast_mode=True and path=None.\n"
     ]
    }
   ],
   "source": [
    "from nats_bench import create\n",
    "from pprint import pprint\n",
    "# Create the API for tologoy search space\n",
    "api = create(None, 'tss', fast_mode=True, verbose=False)"
   ]
  },
  {
   "cell_type": "code",
   "execution_count": 2,
   "metadata": {},
   "outputs": [
    {
     "name": "stdout",
     "output_type": "stream",
     "text": [
      "{'test-accuracy': 22.39999992879232,\n",
      " 'test-all-time': 7.7054752962929856,\n",
      " 'test-loss': 3.1626377182006835,\n",
      " 'test-per-time': 0.6421229413577488,\n",
      " 'train-accuracy': 21.68885959195242,\n",
      " 'train-all-time': 1260.0195466594694,\n",
      " 'train-loss': 3.1863493608815463,\n",
      " 'train-per-time': 105.00162888828912,\n",
      " 'valid-accuracy': 23.266666631062826,\n",
      " 'valid-all-time': 7.7054752962929856,\n",
      " 'valid-loss': 3.1219845104217527,\n",
      " 'valid-per-time': 0.6421229413577488,\n",
      " 'valtest-accuracy': 22.833333323160808,\n",
      " 'valtest-all-time': 15.410950592585971,\n",
      " 'valtest-loss': 3.142311067581177,\n",
      " 'valtest-per-time': 1.2842458827154977}\n"
     ]
    }
   ],
   "source": [
    "largest_candidate_tss = '|nor_conv_3x3~0|+|nor_conv_3x3~0|nor_conv_3x3~1|+|nor_conv_3x3~0|nor_conv_3x3~1|nor_conv_3x3~2|'\n",
    "\n",
    "arch_index = api.query_index_by_arch(largest_candidate_tss)\n",
    "info = api.get_more_info(arch_index, 'ImageNet16-120', hp='12', is_random=False)\n",
    "pprint(info)"
   ]
  },
  {
   "cell_type": "code",
   "execution_count": null,
   "metadata": {},
   "outputs": [],
   "source": []
  }
 ],
 "metadata": {
  "kernelspec": {
   "display_name": "Python 3",
   "language": "python",
   "name": "python3"
  },
  "language_info": {
   "codemirror_mode": {
    "name": "ipython",
    "version": 3
   },
   "file_extension": ".py",
   "mimetype": "text/x-python",
   "name": "python",
   "nbconvert_exporter": "python",
   "pygments_lexer": "ipython3",
   "version": "3.8.8"
  }
 },
 "nbformat": 4,
 "nbformat_minor": 4
}
